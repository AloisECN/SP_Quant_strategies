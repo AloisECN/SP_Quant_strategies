{
 "cells": [
  {
   "cell_type": "code",
   "execution_count": 12,
   "id": "7bddbd97",
   "metadata": {},
   "outputs": [],
   "source": [
    "import pandas as pd\n",
    "import matplotlib.pyplot as plt"
   ]
  },
  {
   "cell_type": "code",
   "execution_count": 8,
   "id": "59a3e809",
   "metadata": {},
   "outputs": [],
   "source": [
    "df = pd.read_csv(\"NQ_from_2000.csv\", sep= \";\")"
   ]
  },
  {
   "cell_type": "code",
   "execution_count": 9,
   "id": "cf26fb69",
   "metadata": {},
   "outputs": [
    {
     "data": {
      "text/html": [
       "<div>\n",
       "<style scoped>\n",
       "    .dataframe tbody tr th:only-of-type {\n",
       "        vertical-align: middle;\n",
       "    }\n",
       "\n",
       "    .dataframe tbody tr th {\n",
       "        vertical-align: top;\n",
       "    }\n",
       "\n",
       "    .dataframe thead th {\n",
       "        text-align: right;\n",
       "    }\n",
       "</style>\n",
       "<table border=\"1\" class=\"dataframe\">\n",
       "  <thead>\n",
       "    <tr style=\"text-align: right;\">\n",
       "      <th></th>\n",
       "      <th>Date</th>\n",
       "      <th>Time</th>\n",
       "      <th>Open</th>\n",
       "      <th>High</th>\n",
       "      <th>Low</th>\n",
       "      <th>Close</th>\n",
       "      <th>Up</th>\n",
       "      <th>Down</th>\n",
       "      <th>PLOT1</th>\n",
       "      <th>PLOT2</th>\n",
       "    </tr>\n",
       "  </thead>\n",
       "  <tbody>\n",
       "    <tr>\n",
       "      <th>0</th>\n",
       "      <td>01/03/2000</td>\n",
       "      <td>01:00</td>\n",
       "      <td>6975.5</td>\n",
       "      <td>6977.0</td>\n",
       "      <td>6975.5</td>\n",
       "      <td>6975.5</td>\n",
       "      <td>3</td>\n",
       "      <td>0</td>\n",
       "      <td>0.0</td>\n",
       "      <td>0.0</td>\n",
       "    </tr>\n",
       "    <tr>\n",
       "      <th>1</th>\n",
       "      <td>01/03/2000</td>\n",
       "      <td>02:00</td>\n",
       "      <td>6977.5</td>\n",
       "      <td>6979.5</td>\n",
       "      <td>6977.5</td>\n",
       "      <td>6979.5</td>\n",
       "      <td>2</td>\n",
       "      <td>0</td>\n",
       "      <td>-1.0</td>\n",
       "      <td>-1.0</td>\n",
       "    </tr>\n",
       "    <tr>\n",
       "      <th>2</th>\n",
       "      <td>01/03/2000</td>\n",
       "      <td>03:00</td>\n",
       "      <td>6979.5</td>\n",
       "      <td>6993.5</td>\n",
       "      <td>6979.5</td>\n",
       "      <td>6987.5</td>\n",
       "      <td>21</td>\n",
       "      <td>0</td>\n",
       "      <td>-1.0</td>\n",
       "      <td>-1.0</td>\n",
       "    </tr>\n",
       "    <tr>\n",
       "      <th>3</th>\n",
       "      <td>01/03/2000</td>\n",
       "      <td>04:00</td>\n",
       "      <td>6986.5</td>\n",
       "      <td>6994.5</td>\n",
       "      <td>6984.5</td>\n",
       "      <td>6992.5</td>\n",
       "      <td>16</td>\n",
       "      <td>0</td>\n",
       "      <td>-1.0</td>\n",
       "      <td>-1.0</td>\n",
       "    </tr>\n",
       "    <tr>\n",
       "      <th>4</th>\n",
       "      <td>01/03/2000</td>\n",
       "      <td>05:00</td>\n",
       "      <td>6994.5</td>\n",
       "      <td>6999.5</td>\n",
       "      <td>6993.5</td>\n",
       "      <td>6999.5</td>\n",
       "      <td>19</td>\n",
       "      <td>0</td>\n",
       "      <td>-1.0</td>\n",
       "      <td>-1.0</td>\n",
       "    </tr>\n",
       "  </tbody>\n",
       "</table>\n",
       "</div>"
      ],
      "text/plain": [
       "         Date   Time    Open    High     Low   Close  Up  Down  PLOT1  PLOT2\n",
       "0  01/03/2000  01:00  6975.5  6977.0  6975.5  6975.5   3     0    0.0    0.0\n",
       "1  01/03/2000  02:00  6977.5  6979.5  6977.5  6979.5   2     0   -1.0   -1.0\n",
       "2  01/03/2000  03:00  6979.5  6993.5  6979.5  6987.5  21     0   -1.0   -1.0\n",
       "3  01/03/2000  04:00  6986.5  6994.5  6984.5  6992.5  16     0   -1.0   -1.0\n",
       "4  01/03/2000  05:00  6994.5  6999.5  6993.5  6999.5  19     0   -1.0   -1.0"
      ]
     },
     "execution_count": 9,
     "metadata": {},
     "output_type": "execute_result"
    }
   ],
   "source": [
    "df.head()"
   ]
  },
  {
   "cell_type": "code",
   "execution_count": 14,
   "id": "d9005a50",
   "metadata": {},
   "outputs": [
    {
     "data": {
      "image/png": "[encoded data removed]",
      "text/plain": [
       "<Figure size 640x480 with 1 Axes>"
      ]
     },
     "metadata": {},
     "output_type": "display_data"
    }
   ],
   "source": [
    "plt.plot( df[\"Date\"], df[\"Open\"],)\n",
    "plt.show()"
   ]
  },
  {
   "cell_type": "code",
   "execution_count": null,
   "id": "448d83aa",
   "metadata": {},
   "outputs": [],
   "source": []
  }
 ],
 "metadata": {
  "kernelspec": {
   "display_name": "Python 3",
   "language": "python",
   "name": "python3"
  },
  "language_info": {
   "codemirror_mode": {
    "name": "ipython",
    "version": 3
   },
   "file_extension": ".py",
   "mimetype": "text/x-python",
   "name": "python",
   "nbconvert_exporter": "python",
   "pygments_lexer": "ipython3",
   "version": "3.13.2"
  }
 },
 "nbformat": 4,
 "nbformat_minor": 5
}
